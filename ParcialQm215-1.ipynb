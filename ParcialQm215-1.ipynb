{
 "cells": [
  {
   "cell_type": "markdown",
   "id": "1ab25bb9",
   "metadata": {},
   "source": [
    "# Primer Examen Parcial de QM215-2025\n",
    "## Dr. Pedro González Beermnn"
   ]
  },
  {
   "cell_type": "markdown",
   "id": "973b40ae",
   "metadata": {},
   "source": [
    "Nombre del Estudiante:____________________________Cédula: ______________"
   ]
  },
  {
   "cell_type": "markdown",
   "id": "d007038c",
   "metadata": {},
   "source": [
    "1. Generar una cadena aleatoria de DNA de 2000 nucleótidos: ACGT\n",
    "- Contar las veces que se repite la secuencia ATG en dicha cadena\n",
    "- Determinar las posiciones dentro de la secuencia en donde se encontró esta secuencia\n",
    "- escribir una función transformar_ADN_ARN(secuencia): que retorna la transformación de la secuencia de ADN en ARN (cambiando la base “T” por “U” en dicha cadena)."
   ]
  },
  {
   "cell_type": "markdown",
   "id": "a9b53e23",
   "metadata": {},
   "source": [
    "2. Problemas con listas:\n",
    "- Escribir un programa que almacene el abecedario en una lista, elimine de la lista las letras que ocupen posiciones múltiplos de 3, y muestre por pantalla la lista resultante.\n"
   ]
  },
  {
   "cell_type": "markdown",
   "id": "d62b6023",
   "metadata": {},
   "source": [
    "3. Dado que el valor de $e^x$ se puede calcular por aproximación de la siguiente suma:\n",
    "\n",
    " $ e = 1 + x+x^2/2! + x^3/3! + ….. + x^n/n! = \\sum_{k=0}^{n} x^k/k! $\n",
    " \n",
    "- Escriba una función que calcule el valor de $e$ para un determinado valor de $n$\n",
    "- mediante un \"ciclo for\" haga el llamado a esta función e imprima el resultado correspondiente para cada valor de n"
   ]
  },
  {
   "cell_type": "markdown",
   "id": "f5af51f0",
   "metadata": {},
   "source": [
    "4. Se tiene N temperaturas. Se desea calcular su media y\n",
    "determinar entre todas ellas cuantas son superiores o iguales a\n",
    "esa media y las T max y min. Pasos:\n",
    "- Escribir una función que genere una lista de 20 temperaturas entre 25°C y 40°C\n",
    "- Escribir una función que calcule la media de esta lista de Temperaturas\n",
    "- Deteminar de esta lista de T cuales con superiores o iguales a la media\n",
    "- Escribir una función que determine las T máxima y mínima\n"
   ]
  },
  {
   "cell_type": "markdown",
   "id": "d8387ed5",
   "metadata": {},
   "source": [
    "5. Problema con vectores con python\n",
    "- Definir dos vectores $v_1=[x1,y1,z1]$ y $v_2=[x2,y2,z2]$\n",
    "- Calcule el producto escalar de los vectores $v_1$ y $v_2$\n",
    "- Calcule el producto escalar de los vectores $v_1$ y $v_2$\n",
    "- Calcule el ángulo entre estos vectores en grados\n"
   ]
  },
  {
   "cell_type": "markdown",
   "id": "25933517",
   "metadata": {},
   "source": [
    "6. Graficar la siguiente función:\n",
    "    $$\\psi_{3s} = \\frac{2}{27}\\sqrt{3}r^2(2r^{2/9} - 2r + 3)e^{-r/3}$$\n",
    "en el rango para r=0 hasta 40\n",
    "- Determinar el valore de r en donde la función alcanza un máximo "
   ]
  },
  {
   "cell_type": "markdown",
   "id": "fe18bfc1",
   "metadata": {},
   "source": [
    "7. Graficar un scatterplot con los datos almacenados en la siguiente url:\n",
    "https://raw.githubusercontent.com/PedroGonzalezBeermann2020/QM215-2025/refs/heads/main/wine.csv"
   ]
  },
  {
   "cell_type": "markdown",
   "id": "05233f8f",
   "metadata": {},
   "source": [
    "8. Visualizar los orbitales moleculares para la molécula de CH2=CH-HC=O. Utilizar la plataforma WebMo\n",
    "- Presentar las imágenes de cada orbital con su correspondiente energía"
   ]
  },
  {
   "cell_type": "code",
   "execution_count": null,
   "id": "c05c7d89",
   "metadata": {},
   "outputs": [],
   "source": []
  }
 ],
 "metadata": {
  "kernelspec": {
   "display_name": "Python 3 (ipykernel)",
   "language": "python",
   "name": "python3"
  },
  "language_info": {
   "codemirror_mode": {
    "name": "ipython",
    "version": 3
   },
   "file_extension": ".py",
   "mimetype": "text/x-python",
   "name": "python",
   "nbconvert_exporter": "python",
   "pygments_lexer": "ipython3",
   "version": "3.11.7"
  }
 },
 "nbformat": 4,
 "nbformat_minor": 5
}
